{
  "nbformat": 4,
  "nbformat_minor": 0,
  "metadata": {
    "colab": {
      "provenance": [],
      "authorship_tag": "ABX9TyP/2yR8xyfqDzNX+CsFsZ/S",
      "include_colab_link": true
    },
    "kernelspec": {
      "name": "python3",
      "display_name": "Python 3"
    },
    "language_info": {
      "name": "python"
    }
  },
  "cells": [
    {
      "cell_type": "markdown",
      "metadata": {
        "id": "view-in-github",
        "colab_type": "text"
      },
      "source": [
        "<a href=\"https://colab.research.google.com/github/Purne1326/Pre-Coding-/blob/main/Untitled2.ipynb\" target=\"_parent\"><img src=\"https://colab.research.google.com/assets/colab-badge.svg\" alt=\"Open In Colab\"/></a>"
      ]
    },
    {
      "cell_type": "code",
      "execution_count": null,
      "metadata": {
        "colab": {
          "base_uri": "https://localhost:8080/"
        },
        "id": "BlSW2WB-ZOIw",
        "outputId": "00ef14a1-6ca4-4441-8bb0-b155531895a1"
      },
      "outputs": [
        {
          "output_type": "stream",
          "name": "stdout",
          "text": [
            "[5, 4, 3, 2, 1]\n"
          ]
        }
      ],
      "source": [
        "e = [1, 2, 3, 4, 5]\n",
        "e.reverse()\n",
        "print(e)"
      ]
    },
    {
      "cell_type": "code",
      "source": [
        "e = [\"a\", \"b\", \"c\"]\n",
        "p = [\"1\", \"2\", \"3\"]\n",
        "r = [i + j for i, j in zip(e, p)]\n",
        "print(r)"
      ],
      "metadata": {
        "colab": {
          "base_uri": "https://localhost:8080/"
        },
        "id": "ZFotANUNZYY2",
        "outputId": "4375defd-1a3e-401b-93e8-8d20ee3dde3e"
      },
      "execution_count": null,
      "outputs": [
        {
          "output_type": "stream",
          "name": "stdout",
          "text": [
            "['a1', 'b2', 'c3']\n"
          ]
        }
      ]
    },
    {
      "cell_type": "code",
      "source": [
        "n = [1, 2, 3, 4]\n",
        "s = [x**2 for x in n]\n",
        "print(s)"
      ],
      "metadata": {
        "colab": {
          "base_uri": "https://localhost:8080/"
        },
        "id": "f6f2btUKZlkM",
        "outputId": "38f1753a-ac15-4ff6-aad8-c088c07a4e89"
      },
      "execution_count": null,
      "outputs": [
        {
          "output_type": "stream",
          "name": "stdout",
          "text": [
            "[1, 4, 9, 16]\n"
          ]
        }
      ]
    },
    {
      "cell_type": "code",
      "source": [
        "e = [\"Hi \", \"Bye \"]\n",
        "p = [\"Tom\", \"Sam\"]\n",
        "r = [x + y for x in e for y in p]\n",
        "print(r)"
      ],
      "metadata": {
        "colab": {
          "base_uri": "https://localhost:8080/"
        },
        "id": "SEmWcN0GaF4o",
        "outputId": "bb1d9df7-25c5-4e04-c863-937c12b054ac"
      },
      "execution_count": null,
      "outputs": [
        {
          "output_type": "stream",
          "name": "stdout",
          "text": [
            "['Hi Tom', 'Hi Sam', 'Bye Tom', 'Bye Sam']\n"
          ]
        }
      ]
    },
    {
      "cell_type": "code",
      "source": [
        "e = [1, 2, 3]\n",
        "p = ['a', 'b', 'c']\n",
        "for a, b in zip(e, p):\n",
        "    print(a, b)"
      ],
      "metadata": {
        "colab": {
          "base_uri": "https://localhost:8080/"
        },
        "id": "_Ww33H8iaUyK",
        "outputId": "cde1a04c-79e1-4bee-879a-6049df0ecef6"
      },
      "execution_count": null,
      "outputs": [
        {
          "output_type": "stream",
          "name": "stdout",
          "text": [
            "1 a\n",
            "2 b\n",
            "3 c\n"
          ]
        }
      ]
    },
    {
      "cell_type": "code",
      "source": [
        "p = [\"abc\", \"\", \"def\", \"\", \"ghi\"]\n",
        "r = [s for s in p if s]\n",
        "print(r)"
      ],
      "metadata": {
        "colab": {
          "base_uri": "https://localhost:8080/"
        },
        "id": "iRPUYB_gaer8",
        "outputId": "894347b8-1784-40d2-a6af-ff77bb20c10c"
      },
      "execution_count": null,
      "outputs": [
        {
          "output_type": "stream",
          "name": "stdout",
          "text": [
            "['abc', 'def', 'ghi']\n"
          ]
        }
      ]
    },
    {
      "cell_type": "code",
      "source": [
        "l = [10, 20, 30, 40]\n",
        "t = int(input(\"Enter the target item: \"))\n",
        "n = int(input(\"Enter the new item to insert: \"))\n",
        "if t in l:\n",
        "    i = l.index(t) + 1\n",
        "    l.insert(i, n)\n",
        "    print(\"Updated list:\", l)\n",
        "else:\n",
        "    print(\"Target item not found in the list.\")"
      ],
      "metadata": {
        "colab": {
          "base_uri": "https://localhost:8080/"
        },
        "id": "sAaOIb22avBd",
        "outputId": "49b46013-8e6f-4432-e62c-18677f553380"
      },
      "execution_count": null,
      "outputs": [
        {
          "output_type": "stream",
          "name": "stdout",
          "text": [
            "Enter the target item: 30\n",
            "Enter the new item to insert: 65\n",
            "Updated list: [10, 20, 30, 65, 40]\n"
          ]
        }
      ]
    },
    {
      "cell_type": "code",
      "source": [
        "n = [1, [2, 3], 4]\n",
        "s = [5, 6]\n",
        "n[1].extend(s)\n",
        "print(n)"
      ],
      "metadata": {
        "colab": {
          "base_uri": "https://localhost:8080/"
        },
        "id": "mFsO1fwub0du",
        "outputId": "146afce7-5a25-4d07-a1b5-b0c52fcab29a"
      },
      "execution_count": null,
      "outputs": [
        {
          "output_type": "stream",
          "name": "stdout",
          "text": [
            "[1, [2, 3, 5, 6], 4]\n"
          ]
        }
      ]
    },
    {
      "cell_type": "code",
      "source": [
        "l = [1, 2, 3, 4, 2]\n",
        "o = 2\n",
        "n = 99\n",
        "l = [n if x == o else x for x in l]\n",
        "print(l)"
      ],
      "metadata": {
        "colab": {
          "base_uri": "https://localhost:8080/"
        },
        "id": "J-VJ4C1ZcFLq",
        "outputId": "2bca8eaa-dd1f-4038-99b5-ed378f92e9e9"
      },
      "execution_count": null,
      "outputs": [
        {
          "output_type": "stream",
          "name": "stdout",
          "text": [
            "[1, 99, 3, 4, 99]\n"
          ]
        }
      ]
    },
    {
      "cell_type": "code",
      "source": [
        "L = [10, 20, 30, 40]\n",
        "o = 30\n",
        "n = 99\n",
        "for i in range(len(L)):\n",
        "    if L[i] == o:\n",
        "        L[i] = n\n",
        "        break\n",
        "print(L)"
      ],
      "metadata": {
        "colab": {
          "base_uri": "https://localhost:8080/"
        },
        "id": "ZpHqrph9tHxA",
        "outputId": "c5affdf6-3bd8-4b91-c6a8-d2a4a8287b4e"
      },
      "execution_count": null,
      "outputs": [
        {
          "output_type": "stream",
          "name": "stdout",
          "text": [
            "[10, 20, 99, 40]\n"
          ]
        }
      ]
    },
    {
      "cell_type": "code",
      "source": [
        "l = [1, 2, 3, 2, 4, 2]\n",
        "t = 2\n",
        "l = [x for x in l if x != t]\n",
        "print(l)"
      ],
      "metadata": {
        "colab": {
          "base_uri": "https://localhost:8080/"
        },
        "id": "CcjwwTOogXGa",
        "outputId": "ac8a020c-0035-45e4-b163-e3330408f08b"
      },
      "execution_count": null,
      "outputs": [
        {
          "output_type": "stream",
          "name": "stdout",
          "text": [
            "[1, 3, 4]\n"
          ]
        }
      ]
    },
    {
      "cell_type": "code",
      "source": [
        "L = [1, 2, 3, 2, 4, 2]\n",
        "x = 2\n",
        "L = list(filter(lambda i: i != x, L))\n",
        "print(L)"
      ],
      "metadata": {
        "colab": {
          "base_uri": "https://localhost:8080/"
        },
        "id": "EHOV8hdMOTx_",
        "outputId": "868960d9-a5f7-4e90-d988-71bfaf8f43db"
      },
      "execution_count": null,
      "outputs": [
        {
          "output_type": "stream",
          "name": "stdout",
          "text": [
            "[1, 3, 4]\n"
          ]
        }
      ]
    },
    {
      "cell_type": "code",
      "source": [
        "t = (1, 2, 3, 4)\n",
        "rt = t[::-1]\n",
        "print(rt)"
      ],
      "metadata": {
        "colab": {
          "base_uri": "https://localhost:8080/"
        },
        "id": "6PxsxbvkZWEA",
        "outputId": "7ad8edc8-27d2-48f9-ecf5-373ec9b06e51"
      },
      "execution_count": null,
      "outputs": [
        {
          "output_type": "stream",
          "name": "stdout",
          "text": [
            "(4, 3, 2, 1)\n"
          ]
        }
      ]
    },
    {
      "cell_type": "code",
      "source": [
        "t = (\"A\", [10, 20, 30], 5)\n",
        "print(t[1][1])"
      ],
      "metadata": {
        "colab": {
          "base_uri": "https://localhost:8080/"
        },
        "id": "pKfYqVvMZ0rU",
        "outputId": "cfd27068-e732-49c5-f57f-df704735cb2b"
      },
      "execution_count": null,
      "outputs": [
        {
          "output_type": "stream",
          "name": "stdout",
          "text": [
            "20\n"
          ]
        }
      ]
    },
    {
      "cell_type": "code",
      "source": [
        "t = (10,)\n",
        "print(t)"
      ],
      "metadata": {
        "colab": {
          "base_uri": "https://localhost:8080/"
        },
        "id": "NDQDelVcaa2C",
        "outputId": "be54f7f8-ff73-4026-a08b-34bc88497a1e"
      },
      "execution_count": null,
      "outputs": [
        {
          "output_type": "stream",
          "name": "stdout",
          "text": [
            "(10,)\n"
          ]
        }
      ]
    },
    {
      "cell_type": "code",
      "source": [
        "t = (1, 2, 3, 4)\n",
        "a, b, c, d = t\n",
        "print(a, b, c, d)"
      ],
      "metadata": {
        "colab": {
          "base_uri": "https://localhost:8080/"
        },
        "id": "djp76eHzagsJ",
        "outputId": "9b5c5946-eeb1-48c1-aa9a-5994a0bfee96"
      },
      "execution_count": null,
      "outputs": [
        {
          "output_type": "stream",
          "name": "stdout",
          "text": [
            "1 2 3 4\n"
          ]
        }
      ]
    },
    {
      "cell_type": "code",
      "source": [
        "t1 = (1, 2)\n",
        "t2 = (3, 4)\n",
        "t1, t2 = t2, t1\n",
        "print(\"t1 =\", t1)\n",
        "print(\"t2 =\", t2)"
      ],
      "metadata": {
        "colab": {
          "base_uri": "https://localhost:8080/"
        },
        "id": "aGMbDBEFalpx",
        "outputId": "e06e7cc1-caac-493f-ec38-3e56bb52eb87"
      },
      "execution_count": null,
      "outputs": [
        {
          "output_type": "stream",
          "name": "stdout",
          "text": [
            "t1 = (3, 4)\n",
            "t2 = (1, 2)\n"
          ]
        }
      ]
    },
    {
      "cell_type": "code",
      "source": [
        "t = (1, 2, 3, 4, 5)\n",
        "p = t[1:4]\n",
        "print(p)"
      ],
      "metadata": {
        "colab": {
          "base_uri": "https://localhost:8080/"
        },
        "id": "QxhSGsSkawLd",
        "outputId": "31bbc091-9db0-4578-ffcd-53950ad0c58b"
      },
      "execution_count": null,
      "outputs": [
        {
          "output_type": "stream",
          "name": "stdout",
          "text": [
            "(2, 3, 4)\n"
          ]
        }
      ]
    },
    {
      "cell_type": "code",
      "source": [
        "t = (1, 2, 3)\n",
        "p = list(t)\n",
        "p[1] = 99\n",
        "t = tuple(p)\n",
        "print(t)"
      ],
      "metadata": {
        "colab": {
          "base_uri": "https://localhost:8080/"
        },
        "id": "eL5xLUbva542",
        "outputId": "8db88d7a-71ba-4a91-ef0d-377e16f2f69c"
      },
      "execution_count": null,
      "outputs": [
        {
          "output_type": "stream",
          "name": "stdout",
          "text": [
            "(1, 99, 3)\n"
          ]
        }
      ]
    },
    {
      "cell_type": "code",
      "source": [
        "t = ((1, 3), (3, 2), (2, 1))\n",
        "sorted_t = tuple(sorted(t, key=lambda x: x[1]))\n",
        "print(sorted_t)"
      ],
      "metadata": {
        "colab": {
          "base_uri": "https://localhost:8080/"
        },
        "id": "UcdDFuRDbGPD",
        "outputId": "053450e2-d064-463b-d693-49632aad47f3"
      },
      "execution_count": null,
      "outputs": [
        {
          "output_type": "stream",
          "name": "stdout",
          "text": [
            "((2, 1), (3, 2), (1, 3))\n"
          ]
        }
      ]
    },
    {
      "cell_type": "code",
      "source": [
        "from operator import itemgetter\n",
        "d = ((1, 3), (2, 1), (3, 2))\n",
        "sd = tuple(sorted(d, key=itemgetter(1)))\n",
        "print(sd)"
      ],
      "metadata": {
        "colab": {
          "base_uri": "https://localhost:8080/"
        },
        "id": "EQ3WcDlNT9st",
        "outputId": "e2af3fff-f92c-4d09-b602-558f76d93ed2"
      },
      "execution_count": null,
      "outputs": [
        {
          "output_type": "stream",
          "name": "stdout",
          "text": [
            "((2, 1), (3, 2), (1, 3))\n"
          ]
        }
      ]
    },
    {
      "cell_type": "code",
      "source": [
        "t = ('x', 'a', 'b', 'x', 'c', 'x')\n",
        "count = t.count('x')\n",
        "print(count)"
      ],
      "metadata": {
        "colab": {
          "base_uri": "https://localhost:8080/"
        },
        "id": "a8ve7ZNFbIga",
        "outputId": "1dc67d55-067d-4ad2-c58c-024595d88813"
      },
      "execution_count": null,
      "outputs": [
        {
          "output_type": "stream",
          "name": "stdout",
          "text": [
            "3\n"
          ]
        }
      ]
    },
    {
      "cell_type": "code",
      "source": [
        "from collections import Counter\n",
        "t = ('x', 'y', 'x', 'z', 'x')\n",
        "count_x = Counter(t)['x']\n",
        "print(count_x)"
      ],
      "metadata": {
        "colab": {
          "base_uri": "https://localhost:8080/"
        },
        "id": "ywXbKdJ_WApM",
        "outputId": "ba9ce042-ca82-44fc-adf3-09c2eb66fe83"
      },
      "execution_count": null,
      "outputs": [
        {
          "output_type": "stream",
          "name": "stdout",
          "text": [
            "3\n"
          ]
        }
      ]
    },
    {
      "cell_type": "code",
      "source": [
        "s = {1, 2}\n",
        "lst = [3, 4, 5]\n",
        "s.update(lst)\n",
        "print(s)"
      ],
      "metadata": {
        "colab": {
          "base_uri": "https://localhost:8080/"
        },
        "id": "H-lpS9HAXm7R",
        "outputId": "6f1f4c10-8864-4976-9634-ebfca92f56b4"
      },
      "execution_count": null,
      "outputs": [
        {
          "output_type": "stream",
          "name": "stdout",
          "text": [
            "{1, 2, 3, 4, 5}\n"
          ]
        }
      ]
    },
    {
      "cell_type": "code",
      "source": [
        "s1 = {1, 2, 3}\n",
        "s2 = {2, 3, 4}\n",
        "common = s1.intersection(s2)\n",
        "print(common)"
      ],
      "metadata": {
        "colab": {
          "base_uri": "https://localhost:8080/"
        },
        "id": "2GfCJmaLXqpw",
        "outputId": "b6735445-3315-4acc-d542-fed8f7f96253"
      },
      "execution_count": null,
      "outputs": [
        {
          "output_type": "stream",
          "name": "stdout",
          "text": [
            "{2, 3}\n"
          ]
        }
      ]
    },
    {
      "cell_type": "code",
      "source": [
        "s1 = {1, 2, 3}\n",
        "s2 = {3, 4, 5}\n",
        "unique = s1.symmetric_difference(s2)\n",
        "print(unique)"
      ],
      "metadata": {
        "colab": {
          "base_uri": "https://localhost:8080/"
        },
        "id": "NJ2o3UGjXve6",
        "outputId": "60674865-372b-4003-b35e-3bd1f45abd28"
      },
      "execution_count": null,
      "outputs": [
        {
          "output_type": "stream",
          "name": "stdout",
          "text": [
            "{1, 2, 4, 5}\n"
          ]
        }
      ]
    },
    {
      "cell_type": "code",
      "source": [
        "s1 = {1, 2, 3}\n",
        "s2 = {2, 4}\n",
        "s1.difference_update(s2)\n",
        "print(s1)"
      ],
      "metadata": {
        "colab": {
          "base_uri": "https://localhost:8080/"
        },
        "id": "ubhOFkqXXzU1",
        "outputId": "8bfc499e-6139-4f01-e6f0-e1861c80b06a"
      },
      "execution_count": null,
      "outputs": [
        {
          "output_type": "stream",
          "name": "stdout",
          "text": [
            "{1, 3}\n"
          ]
        }
      ]
    },
    {
      "cell_type": "code",
      "source": [
        "s = {1, 2, 3, 4, 5}\n",
        "s.difference_update([2, 4])\n",
        "print(s)"
      ],
      "metadata": {
        "colab": {
          "base_uri": "https://localhost:8080/"
        },
        "id": "xg8EBVISX4mz",
        "outputId": "a1138149-2bf5-45d0-91da-f93fde95854c"
      },
      "execution_count": null,
      "outputs": [
        {
          "output_type": "stream",
          "name": "stdout",
          "text": [
            "{1, 3, 5}\n"
          ]
        }
      ]
    },
    {
      "cell_type": "code",
      "source": [
        "A = {1, 2, 3}\n",
        "B = {3, 4, 5}\n",
        "result = A ^ B\n",
        "print(result)"
      ],
      "metadata": {
        "colab": {
          "base_uri": "https://localhost:8080/"
        },
        "id": "6zS1MRxdX8Rr",
        "outputId": "09ccc21c-52a0-4969-c091-0415f90255ba"
      },
      "execution_count": null,
      "outputs": [
        {
          "output_type": "stream",
          "name": "stdout",
          "text": [
            "{1, 2, 4, 5}\n"
          ]
        }
      ]
    },
    {
      "cell_type": "code",
      "source": [
        "s1 = {1, 2, 3}\n",
        "s2 = {2, 3, 4}\n",
        "common = s1 & s2\n",
        "if common:\n",
        "    print(\"Common elements:\", common)\n",
        "else:\n",
        "    print(\"No common elements\")"
      ],
      "metadata": {
        "colab": {
          "base_uri": "https://localhost:8080/"
        },
        "id": "wrVGK3J3YBOT",
        "outputId": "31e57d6f-92ec-46a4-a4f4-e56569f733e1"
      },
      "execution_count": null,
      "outputs": [
        {
          "output_type": "stream",
          "name": "stdout",
          "text": [
            "Common elements: {2, 3}\n"
          ]
        }
      ]
    },
    {
      "cell_type": "code",
      "source": [
        "set1 = {1, 2, 3}\n",
        "set2 = {3, 4, 5}\n",
        "set1.update(set2 - set1)\n",
        "print(set1)"
      ],
      "metadata": {
        "colab": {
          "base_uri": "https://localhost:8080/"
        },
        "id": "k95gk-2sYFbq",
        "outputId": "ff5640f6-f617-4d48-ce68-8be06067d45c"
      },
      "execution_count": null,
      "outputs": [
        {
          "output_type": "stream",
          "name": "stdout",
          "text": [
            "{1, 2, 3, 4, 5}\n"
          ]
        }
      ]
    },
    {
      "cell_type": "code",
      "source": [
        "set1 = {1, 2, 3}\n",
        "set2 = {3, 4, 5}\n",
        "set1.update(set1 ^ set2)\n",
        "print(set1)"
      ],
      "metadata": {
        "colab": {
          "base_uri": "https://localhost:8080/"
        },
        "id": "vwQkDKG-YTp7",
        "outputId": "07951760-1d70-4bc7-fd76-3ad9abee0511"
      },
      "execution_count": null,
      "outputs": [
        {
          "output_type": "stream",
          "name": "stdout",
          "text": [
            "{1, 2, 3, 4, 5}\n"
          ]
        }
      ]
    },
    {
      "cell_type": "code",
      "source": [
        "set1 = {1, 2, 3}\n",
        "set2 = {2, 3, 4}\n",
        "set1.intersection_update(set2)\n",
        "print(set1)"
      ],
      "metadata": {
        "colab": {
          "base_uri": "https://localhost:8080/"
        },
        "id": "b6si2iduYWF3",
        "outputId": "5eb8aed3-54ee-430d-f34f-5fc32320c15e"
      },
      "execution_count": null,
      "outputs": [
        {
          "output_type": "stream",
          "name": "stdout",
          "text": [
            "{2, 3}\n"
          ]
        }
      ]
    },
    {
      "cell_type": "code",
      "source": [
        "set1 = {1, 2, 3}\n",
        "set2 = {2, 3, 4}\n",
        "set1 &= set2\n",
        "print(set1)"
      ],
      "metadata": {
        "colab": {
          "base_uri": "https://localhost:8080/"
        },
        "id": "Vi1Vc0snYkqz",
        "outputId": "10c7a26f-4609-42c6-973f-c47b7f38cfe7"
      },
      "execution_count": null,
      "outputs": [
        {
          "output_type": "stream",
          "name": "stdout",
          "text": [
            "{2, 3}\n"
          ]
        }
      ]
    },
    {
      "cell_type": "code",
      "source": [
        "k = ['a', 'b', 'c']\n",
        "v = [1, 2, 3]\n",
        "d = dict(zip(k, v))\n",
        "print(d)"
      ],
      "metadata": {
        "colab": {
          "base_uri": "https://localhost:8080/"
        },
        "id": "UogSsmfEr18h",
        "outputId": "f6a4b243-af2a-46b1-aa5f-adc92e7a84fa"
      },
      "execution_count": null,
      "outputs": [
        {
          "output_type": "stream",
          "name": "stdout",
          "text": [
            "{'a': 1, 'b': 2, 'c': 3}\n"
          ]
        }
      ]
    },
    {
      "cell_type": "code",
      "source": [
        "d1 = {'a': 1, 'b': 2}\n",
        "d2 = {'c': 3, 'd': 4}\n",
        "d1.update(d2)\n",
        "print(d1)"
      ],
      "metadata": {
        "colab": {
          "base_uri": "https://localhost:8080/"
        },
        "id": "EYbYKnkWr8c8",
        "outputId": "fcccca51-b9a0-4a11-8376-5feb8dac505d"
      },
      "execution_count": null,
      "outputs": [
        {
          "output_type": "stream",
          "name": "stdout",
          "text": [
            "{'a': 1, 'b': 2, 'c': 3, 'd': 4}\n"
          ]
        }
      ]
    },
    {
      "cell_type": "code",
      "source": [
        "k = ['a', 'b']\n",
        "dv = 0\n",
        "d = dict.fromkeys(k, dv)\n",
        "print(d)"
      ],
      "metadata": {
        "colab": {
          "base_uri": "https://localhost:8080/"
        },
        "id": "II7tvoIcsELw",
        "outputId": "29e5dafe-ab3c-401c-d8bd-6c2934c5d2d5"
      },
      "execution_count": null,
      "outputs": [
        {
          "output_type": "stream",
          "name": "stdout",
          "text": [
            "{'a': 0, 'b': 0}\n"
          ]
        }
      ]
    },
    {
      "cell_type": "code",
      "source": [
        "o = {'a': 1, 'b': 2, 'c': 3}\n",
        "k = ['a', 'c']\n",
        "n = {k: o[k] for k in k}\n",
        "print(n)"
      ],
      "metadata": {
        "colab": {
          "base_uri": "https://localhost:8080/"
        },
        "id": "b0Ow9djksHYC",
        "outputId": "96c71e44-6ccf-4ff7-ae0a-14c630671a01"
      },
      "execution_count": null,
      "outputs": [
        {
          "output_type": "stream",
          "name": "stdout",
          "text": [
            "{'a': 1, 'c': 3}\n"
          ]
        }
      ]
    },
    {
      "cell_type": "code",
      "source": [
        "d = {'a': 1, 'b': 2, 'c': 3}\n",
        "k = ['b', 'c']\n",
        "for key in k:\n",
        "    d.pop(key, None)\n",
        "print(d)"
      ],
      "metadata": {
        "colab": {
          "base_uri": "https://localhost:8080/"
        },
        "id": "1vZOsAkvzRP4",
        "outputId": "e2dcaaa1-9034-44fd-d7f8-af14bba59dd8"
      },
      "execution_count": null,
      "outputs": [
        {
          "output_type": "stream",
          "name": "stdout",
          "text": [
            "{'a': 1}\n"
          ]
        }
      ]
    },
    {
      "cell_type": "code",
      "source": [
        "d = {'a': 10, 'b': 20}\n",
        "val = 20\n",
        "if val in d.values():\n",
        "    print(\"Value exists\")\n",
        "else:\n",
        "    print(\"Value not found\")"
      ],
      "metadata": {
        "colab": {
          "base_uri": "https://localhost:8080/"
        },
        "id": "zJ4MQGl3za1D",
        "outputId": "243d393f-4af1-4e33-e422-4697f934d62e"
      },
      "execution_count": null,
      "outputs": [
        {
          "output_type": "stream",
          "name": "stdout",
          "text": [
            "Value exists\n"
          ]
        }
      ]
    },
    {
      "cell_type": "code",
      "source": [
        "d = {'e': 1}\n",
        "d['p'] = d.pop('e')\n",
        "print(d)"
      ],
      "metadata": {
        "colab": {
          "base_uri": "https://localhost:8080/"
        },
        "id": "KpVJM3pFzckG",
        "outputId": "e43911c6-f94e-4d09-e930-e13806b920eb"
      },
      "execution_count": null,
      "outputs": [
        {
          "output_type": "stream",
          "name": "stdout",
          "text": [
            "{'p': 1}\n"
          ]
        }
      ]
    },
    {
      "cell_type": "code",
      "source": [
        "d = {'a': 10, 'b': 5, 'c': 20}\n",
        "m = min(d, key=d.get)\n",
        "print(m)"
      ],
      "metadata": {
        "colab": {
          "base_uri": "https://localhost:8080/"
        },
        "id": "wCBpmcOxzfMl",
        "outputId": "b0f7d05b-026d-47af-f4e0-bb74bf728d9e"
      },
      "execution_count": null,
      "outputs": [
        {
          "output_type": "stream",
          "name": "stdout",
          "text": [
            "b\n"
          ]
        }
      ]
    },
    {
      "cell_type": "code",
      "source": [
        "d = {'a': 3, 'b': 1, 'c': 2}\n",
        "m = min(d.items(), key=lambda item: item[1])[0]\n",
        "print(m)"
      ],
      "metadata": {
        "colab": {
          "base_uri": "https://localhost:8080/"
        },
        "id": "PkTtxoYIzwyU",
        "outputId": "ca6bc6d9-b1e0-46a1-c35a-1eb1edbe4278"
      },
      "execution_count": null,
      "outputs": [
        {
          "output_type": "stream",
          "name": "stdout",
          "text": [
            "b\n"
          ]
        }
      ]
    },
    {
      "cell_type": "code",
      "source": [
        "d = {'emp1': {'name': 'John', 'salary': 5000},'emp2': {'name': 'Doe', 'salary': 6000}}\n",
        "d['emp1']['salary'] = 5500\n",
        "print(d)"
      ],
      "metadata": {
        "colab": {
          "base_uri": "https://localhost:8080/"
        },
        "id": "CAloaf-dzx5Q",
        "outputId": "e11468a6-7f45-42ff-8d34-db5e29ae431d"
      },
      "execution_count": null,
      "outputs": [
        {
          "output_type": "stream",
          "name": "stdout",
          "text": [
            "{'emp1': {'name': 'John', 'salary': 5500}, 'emp2': {'name': 'Doe', 'salary': 6000}}\n"
          ]
        }
      ]
    },
    {
      "cell_type": "code",
      "source": [
        "d = {'outer': {'inner': 42}}\n",
        "d['outer'].update({'inner': 99})\n",
        "print(d)"
      ],
      "metadata": {
        "colab": {
          "base_uri": "https://localhost:8080/"
        },
        "id": "ehxdEUYb04cZ",
        "outputId": "5fae4c12-a798-483e-b5e1-4c7599924dfe"
      },
      "execution_count": null,
      "outputs": [
        {
          "output_type": "stream",
          "name": "stdout",
          "text": [
            "{'outer': {'inner': 99}}\n"
          ]
        }
      ]
    }
  ]
}